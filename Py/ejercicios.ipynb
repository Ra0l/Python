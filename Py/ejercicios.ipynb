{
 "cells": [
  {
   "cell_type": "code",
   "execution_count": null,
   "metadata": {},
   "outputs": [],
   "source": [
    "# 1: Pide al usuario ingresar una lista de números y luego imprime la suma de esos números.\n",
    "\n",
    "print(\"SUMA\")\n",
    "\n",
    "number1 = int(input(\"Ingrese el primer número: \"))\n",
    "number2 = int(input(\"Ingrese el segundo número: \"))\n",
    "\n",
    "suma = number1 + number2\n",
    "\n",
    "print(\"La suma de es: \", suma ,\", gracias.\")"
   ]
  },
  {
   "cell_type": "code",
   "execution_count": 10,
   "metadata": {},
   "outputs": [
    {
     "name": "stdout",
     "output_type": "stream",
     "text": [
      "MULTIPLICACIÓN\n",
      "La multiplicación es:  35 , gracias.\n"
     ]
    }
   ],
   "source": [
    "# 2: Solicita al usuario ingresar una lista de números y calcula el producto de esos números.\n",
    "\n",
    "print(\"MULTIPLICACIÓN\")\n",
    "\n",
    "number1 = int(input(\"Ingrese el primer número: \"))\n",
    "number2 = int(input(\"Ingrese el segundo número: \"))\n",
    "\n",
    "mult = number1 * number2\n",
    "\n",
    "print(\"La multiplicación es: \", mult ,\", gracias.\")\n",
    "\n"
   ]
  },
  {
   "cell_type": "code",
   "execution_count": 20,
   "metadata": {},
   "outputs": [
    {
     "name": "stdout",
     "output_type": "stream",
     "text": [
      "['julio', 'rafa', 'fer']\n"
     ]
    }
   ],
   "source": [
    "# 3: Lee una lista de palabras del usuario e imprime la lista en orden inverso.\n",
    "\n",
    "lista_user = []\n",
    "\n",
    "contador= 0\n",
    "while contador < 3:\n",
    "    palabra = input(\"ingrese 5 palabras: \")\n",
    "    lista_user.append(palabra)\n",
    "    contador += 1\n",
    "    \n",
    "lista_user.reverse()\n",
    "print(lista_user)"
   ]
  },
  {
   "cell_type": "code",
   "execution_count": 3,
   "metadata": {},
   "outputs": [
    {
     "name": "stdout",
     "output_type": "stream",
     "text": [
      "lista =  [4, 4, 4, 4, 5]\n",
      "positivos:  4\n",
      "negativos:  1\n"
     ]
    }
   ],
   "source": [
    "# 4: Pide al usuario ingresar una lista de números y cuenta cuántos son pares e impares.\n",
    "\n",
    "lista_user_numbers = []\n",
    "contador = 0\n",
    "contador_pos = 0\n",
    "contador_neg = 0\n",
    "\n",
    "while contador < 5:\n",
    "    number = int(input(\"ingrese valor: \"))\n",
    "    lista_user_numbers.append(number)\n",
    "   \n",
    "    if number % 2 == 0:\n",
    "        contador_pos += 1\n",
    "    else:\n",
    "        contador_neg += 1\n",
    "\n",
    "    contador += 1\n",
    "\n",
    "print(\"lista = \", lista_user_numbers)\n",
    "\n",
    "print(\"positivos: \", contador_pos)\n",
    "print(\"negativos: \", contador_neg)\n"
   ]
  },
  {
   "cell_type": "code",
   "execution_count": 14,
   "metadata": {},
   "outputs": [
    {
     "name": "stdout",
     "output_type": "stream",
     "text": [
      "Notas:  [13.0, 17.0]\n",
      "El promedio es:  15.0\n"
     ]
    }
   ],
   "source": [
    "# 5: Solicita al usuario ingresar una lista de números y calcula el promedio de esos números.\n",
    "\n",
    "notas_user = []\n",
    "contador = 0\n",
    "while contador < 2:\n",
    "    notas = float(input(\"Ingrese la nota: \"))\n",
    "    notas_user.append(notas)\n",
    "    # promedio\n",
    "    suma_total = sum(notas_user)\n",
    "    cant_valores = len(notas_user)\n",
    "\n",
    "    promedio = suma_total / cant_valores\n",
    "\n",
    "    contador += 1\n",
    "\n",
    "print(\"Notas: \" , notas_user)\n",
    "print(\"El promedio es: \" , promedio)"
   ]
  },
  {
   "cell_type": "code",
   "execution_count": null,
   "metadata": {},
   "outputs": [],
   "source": [
    "# 6: Escribe una función que encuentre el valor máximo en una lista y pide al usuario ingresar una lista para probarla.\n",
    "\n",
    "def max_lista(lista):\n",
    "    if not lista:\n",
    "        return None\n",
    "    else:\n",
    "        maximo = lista[0]\n",
    "        for elemento in lista:\n",
    "            if elemento > maximo:\n",
    "                maximo = elemento\n",
    "        return maximo\n",
    "    \n",
    "entrada_usuario = input(\"Ingresa una lista de números separados por espacio: \")\n",
    "lista_usuario = [int(num) for num in entrada_usuario.split()]\n",
    "\n",
    "maximo_encontrado = max_lista(lista_usuario)\n",
    "if maximo_encontrado is not None:\n",
    "    print(f\"El valor máximo en la lista es: {maximo_encontrado}\")\n",
    "else:\n",
    "    print(\"La lista está vacía.\")"
   ]
  },
  {
   "cell_type": "code",
   "execution_count": 28,
   "metadata": {},
   "outputs": [
    {
     "name": "stdout",
     "output_type": "stream",
     "text": [
      "[1, 2, 3, 4, 5, 6, 7]\n",
      "[3, 4, 5]\n"
     ]
    }
   ],
   "source": [
    "# Ejemplo de usar la función split()\n",
    "\n",
    "var = \"1 2 3 4 5 6 7\"\n",
    "lista_var = [int(num) for num in var.split()]\n",
    "\n",
    "print(lista_var)\n",
    "\n",
    "print(lista_var[2:5])"
   ]
  },
  {
   "cell_type": "code",
   "execution_count": 8,
   "metadata": {},
   "outputs": [
    {
     "name": "stdout",
     "output_type": "stream",
     "text": [
      "lista:  [2, 4, 7, 9, 2, 4, 6]\n",
      "lista ordenanda:  [2, 2, 4, 4, 6, 7, 9]\n"
     ]
    }
   ],
   "source": [
    "# 7: Implementa una función que ordene una lista de números de menor a mayor. Pide al usuario ingresar una lista y luego imprímela ordenada.\n",
    "\n",
    "def ord_lista(lista):\n",
    "    lista_ordenada= sorted(lista)\n",
    "    \n",
    "    print(\"lista: \", lista)\n",
    "    print(\"lista ordenanda: \",lista_ordenada)\n",
    "\n",
    "    \n",
    "\n",
    "\n",
    "lista_user= input(\"Ingrese una lista de numeros separados por espacios o comas: \")\n",
    "lista1 = [int(num) for num in lista_user.split()]\n",
    "\n",
    "ord_lista(lista1)\n",
    "\n",
    "\n"
   ]
  },
  {
   "cell_type": "code",
   "execution_count": 13,
   "metadata": {},
   "outputs": [
    {
     "name": "stdout",
     "output_type": "stream",
     "text": [
      "Matriz de entrada:\n",
      "[[1 2 3]\n",
      " [4 5 6]]\n",
      "\n",
      "Matriz transpuesta:\n",
      "[[1 4]\n",
      " [2 5]\n",
      " [3 6]]\n"
     ]
    }
   ],
   "source": [
    "# 8: Escribe una función que tome una matriz como entrada (usando NumPy) y devuelva su matriz transpuesta.\n",
    "\n",
    "import numpy as np\n",
    "\n",
    "def matriz_transpuesta(matriz):\n",
    "    \"\"\"\n",
    "    Toma una matriz como entrada y devuelve su matriz transpuesta.\n",
    "    \n",
    "    Parameters:\n",
    "    matriz (numpy.ndarray): La matriz de entrada.\n",
    "    \n",
    "    Returns:\n",
    "    numpy.ndarray: La matriz transpuesta.\n",
    "    \"\"\"\n",
    "    matriz_transpuesta = np.transpose(matriz)\n",
    "    # Alternativamente, puedes usar matriz_transpuesta = matriz.T\n",
    "    \n",
    "    return matriz_transpuesta\n",
    "\n",
    "# Ejemplo de uso\n",
    "\n",
    "matriz1_user= input(\"ingrese los numeros: \")\n",
    "matriz1 = [int(num) for num in matriz1_user.split()]\n",
    "\n",
    "matriz2_user= input(\"ingrese los numeros: \")\n",
    "matriz2 = [int(num) for num in matriz2_user.split()]\n",
    "\n",
    "\n",
    "matriz_entrada = np.array([matriz1, matriz2])\n",
    "resultado_transpuesta = matriz_transpuesta(matriz_entrada)\n",
    "\n",
    "print(\"Matriz de entrada:\")\n",
    "print(matriz_entrada)\n",
    "\n",
    "print(\"\\nMatriz transpuesta:\")\n",
    "print(resultado_transpuesta)"
   ]
  },
  {
   "cell_type": "code",
   "execution_count": 14,
   "metadata": {},
   "outputs": [
    {
     "name": "stdout",
     "output_type": "stream",
     "text": [
      "La media de la lista es: 4.8\n",
      "La desviación estándar de la lista es: 2.5612496949731396\n"
     ]
    }
   ],
   "source": [
    "# 10: Pide al usuario ingresar una lista de números y utiliza NumPy para calcular la media y la desviación estándar.\n",
    "\n",
    "import numpy as np\n",
    "\n",
    "# Solicitar al usuario ingresar una lista de números\n",
    "entrada_usuario = input(\"Ingresa una lista de números separados por espacio: \")\n",
    "numeros = [float(num) for num in entrada_usuario.split()]\n",
    "\n",
    "# Convertir la lista a un array NumPy\n",
    "array_numeros = np.array(numeros)\n",
    "\n",
    "# Calcular la media y desviación estándar usando NumPy\n",
    "media = np.mean(array_numeros)\n",
    "desviacion_estandar = np.std(array_numeros)\n",
    "\n",
    "# Mostrar los resultados\n",
    "print(f\"La media de la lista es: {media}\")\n",
    "print(f\"La desviación estándar de la lista es: {desviacion_estandar}\")\n"
   ]
  },
  {
   "cell_type": "code",
   "execution_count": 15,
   "metadata": {},
   "outputs": [
    {
     "name": "stdout",
     "output_type": "stream",
     "text": [
      "[[0. 0. 0. 0.]\n",
      " [0. 0. 0. 0.]\n",
      " [0. 0. 0. 0.]]\n"
     ]
    }
   ],
   "source": [
    "# formas de usar arrays numpy:\n",
    "\n",
    "arr2 = np.zeros((3, 4))\n",
    "\n",
    "print(arr2) # me da como resultado un array de 3x4 lleno de ceros.\n",
    "\n",
    "arr1 = np.array([1, 2, 3]) # Crear un array a partir de una lista.\n",
    "\n",
    "# Multiplicar todos los elementos por 2.\n",
    "arr = np.array([1, 2, 3])\n",
    "resultado = arr * 2\n",
    "\n",
    "# Acceder a elementos individuales, filas o columnas utilizando índices y realizar slicing de la misma manera que en las listas:\n",
    "matriz = np.array([[1, 2, 3], [4, 5, 6]])\n",
    "\n",
    "elemento = matriz[1, 2] # Acceder al elemento en la segunda fila y tercer columna.\n",
    "\n",
    "columna = matriz[:, 0] # Obtener la primera columna.\n",
    "\n",
    "#  Funciones y métodos para realizar operaciones matriciales y estadísticas en los arrays.\n",
    "arr = np.array([1, 2, 3, 4, 5])\n",
    "\n",
    "suma = np.sum(arr) # Calcular la suma de los elementos.\n",
    "\n",
    "media = np.mean(arr) # Calcular la media.\n",
    "\n"
   ]
  }
 ],
 "metadata": {
  "kernelspec": {
   "display_name": "Python 3",
   "language": "python",
   "name": "python3"
  },
  "language_info": {
   "codemirror_mode": {
    "name": "ipython",
    "version": 3
   },
   "file_extension": ".py",
   "mimetype": "text/x-python",
   "name": "python",
   "nbconvert_exporter": "python",
   "pygments_lexer": "ipython3",
   "version": "3.12.4"
  }
 },
 "nbformat": 4,
 "nbformat_minor": 2
}
