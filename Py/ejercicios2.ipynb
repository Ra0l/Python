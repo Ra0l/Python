{
 "cells": [
  {
   "cell_type": "code",
   "execution_count": 2,
   "metadata": {},
   "outputs": [
    {
     "name": "stdout",
     "output_type": "stream",
     "text": [
      "el reultado es:  10\n"
     ]
    }
   ],
   "source": [
    "# 1: Escribe un programa que sume todos los números pares del 1 al 50.\n",
    "\n",
    "def suma_pares(lista):\n",
    "\n",
    "    suma = 0\n",
    "    for num in lista:\n",
    "        if num % 2 == 0:\n",
    "            suma += num\n",
    "    return suma\n",
    "\n",
    "lista_user = input(\"ingrese los numeros separados por espacios: \")\n",
    "lista_complete = [int(num) for num in lista_user.split()]\n",
    "\n",
    "resultado = suma_pares(lista_complete)\n",
    "\n",
    "print(\"el reultado es: \", resultado)\n",
    "\n"
   ]
  },
  {
   "cell_type": "code",
   "execution_count": 19,
   "metadata": {},
   "outputs": [
    {
     "name": "stdout",
     "output_type": "stream",
     "text": [
      "['fer', 'rafa']\n",
      "el numero de palabras es:  2\n"
     ]
    }
   ],
   "source": [
    "# 2: Crea una función que tome una cadena de texto como entrada y cuente el número de palabras en ella.\n",
    "\n",
    "def cont_palabras(texto):\n",
    "\n",
    "    texto = [str(num) for num in lista_user.split()]\n",
    "    print(texto)\n",
    "    print(\"el numero de palabras es: \", len(texto))\n",
    "\n",
    "\n",
    "lista_user = input(\"ingrese los numeros separados por espacios: \")\n",
    "cont_palabras(lista_user)"
   ]
  },
  {
   "cell_type": "code",
   "execution_count": 44,
   "metadata": {},
   "outputs": [
    {
     "name": "stdout",
     "output_type": "stream",
     "text": [
      "Lista en orden inverso:\n",
      "ro\n",
      "rafa\n",
      "fer\n"
     ]
    }
   ],
   "source": [
    "# 3: Escribe un programa que tome una lista de nombres como entrada y la imprima en orden inverso.\n",
    "\n",
    "def imprimir_en_orden_inverso(lista):\n",
    "    lista_inversa = reversed(lista)\n",
    "    for nombre in lista_inversa:\n",
    "        print(nombre)\n",
    "\n",
    "# Pedir al usuario que ingrese una lista de nombres\n",
    "nombres = input(\"Ingresa una lista de nombres separados por comas: \").split()\n",
    "\n",
    "# Llamar a la función para imprimir en orden inverso\n",
    "print(\"Lista en orden inverso:\")\n",
    "imprimir_en_orden_inverso(nombres)\n",
    "\n",
    "\n",
    "\n"
   ]
  },
  {
   "cell_type": "code",
   "execution_count": 6,
   "metadata": {},
   "outputs": [
    {
     "name": "stdout",
     "output_type": "stream",
     "text": [
      "-1\n",
      "0\n",
      "0\n"
     ]
    }
   ],
   "source": [
    "# 4: Desarrolla un programa que calcule el factorial de un número ingresado por el usuario.\n",
    "\n",
    "def factorial(numero):\n",
    "\n",
    "    cont = 0\n",
    "    fact = 1\n",
    "    while cont <= numero:\n",
    "        \n",
    "        cont += 1\n",
    "\n",
    "        print(cont)\n",
    "\n",
    "            \n",
    "\n",
    "\n",
    "\n",
    "numero_user = int(input(\"ingrese un numero: \"))\n",
    "fact = factorial(numero_user)\n"
   ]
  }
 ],
 "metadata": {
  "kernelspec": {
   "display_name": "Python 3",
   "language": "python",
   "name": "python3"
  },
  "language_info": {
   "codemirror_mode": {
    "name": "ipython",
    "version": 3
   },
   "file_extension": ".py",
   "mimetype": "text/x-python",
   "name": "python",
   "nbconvert_exporter": "python",
   "pygments_lexer": "ipython3",
   "version": "3.11.5"
  }
 },
 "nbformat": 4,
 "nbformat_minor": 2
}
